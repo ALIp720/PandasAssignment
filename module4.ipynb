{
 "cells": [
  {
   "cell_type": "code",
   "execution_count": 3,
   "id": "9dae835e-0351-49e1-90e3-2f616b82411f",
   "metadata": {},
   "outputs": [
    {
     "name": "stdout",
     "output_type": "stream",
     "text": [
      "wale_returns data is (1060, 5)\n",
      "algo_returns data is (1241, 3)\n",
      "sp_tsx_history data is (1818, 2)\n",
      "wale_returns clean data is (1059, 5)\n",
      "algo_returns clean data is (1235, 3)\n",
      "sp_tsx_history clean data is (1818, 2)\n"
     ]
    }
   ],
   "source": [
    "import pandas as pd\n",
    "\n",
    "#read the files\n",
    "dfwale_returns=pd.read_csv(\"Starter_Code/Resources/whale_returns.csv\")\n",
    "dfalgo_returns=pd.read_csv(\"Starter_Code/Resources/algo_returns.csv\")\n",
    "dfsp_tsx_history=pd.read_csv(\"Starter_Code/Resources/sp_tsx_history.csv\")\n",
    "\n",
    "print(\"wale_returns data is\",dfwale_returns.shape)\n",
    "print(\"algo_returns data is\", dfalgo_returns.shape)\n",
    "print(\"sp_tsx_history data is\",dfsp_tsx_history.shape)\n",
    "\n",
    "#Identify and remove null values\n",
    "df_wale_returns=dfwale_returns.dropna()\n",
    "print(\"wale_returns clean data is\",df_wale_returns.shape)\n",
    "df_algo_returns=dfalgo_returns.dropna()\n",
    "print(\"algo_returns clean data is\", df_algo_returns.shape)\n",
    "df_sp_tsx_history=dfsp_tsx_history.dropna()\n",
    "print(\"sp_tsx_history clean data is\",df_sp_tsx_history.shape)\n",
    "\n"
   ]
  },
  {
   "cell_type": "code",
   "execution_count": 50,
   "id": "b77f70b3-1b38-4047-aa97-135d82fc0b1a",
   "metadata": {},
   "outputs": [
    {
     "data": {
      "text/html": [
       "<div>\n",
       "<style scoped>\n",
       "    .dataframe tbody tr th:only-of-type {\n",
       "        vertical-align: middle;\n",
       "    }\n",
       "\n",
       "    .dataframe tbody tr th {\n",
       "        vertical-align: top;\n",
       "    }\n",
       "\n",
       "    .dataframe thead th {\n",
       "        text-align: right;\n",
       "    }\n",
       "</style>\n",
       "<table border=\"1\" class=\"dataframe\">\n",
       "  <thead>\n",
       "    <tr style=\"text-align: right;\">\n",
       "      <th></th>\n",
       "      <th>Date</th>\n",
       "      <th>Close</th>\n",
       "    </tr>\n",
       "  </thead>\n",
       "  <tbody>\n",
       "    <tr>\n",
       "      <th>0</th>\n",
       "      <td>1-Oct-2012</td>\n",
       "      <td>12,370.19</td>\n",
       "    </tr>\n",
       "    <tr>\n",
       "      <th>1</th>\n",
       "      <td>2-Oct-2012</td>\n",
       "      <td>12,391.23</td>\n",
       "    </tr>\n",
       "    <tr>\n",
       "      <th>2</th>\n",
       "      <td>3-Oct-2012</td>\n",
       "      <td>12,359.47</td>\n",
       "    </tr>\n",
       "    <tr>\n",
       "      <th>3</th>\n",
       "      <td>4-Oct-2012</td>\n",
       "      <td>12,447.68</td>\n",
       "    </tr>\n",
       "    <tr>\n",
       "      <th>4</th>\n",
       "      <td>5-Oct-2012</td>\n",
       "      <td>12,418.99</td>\n",
       "    </tr>\n",
       "    <tr>\n",
       "      <th>...</th>\n",
       "      <td>...</td>\n",
       "      <td>...</td>\n",
       "    </tr>\n",
       "    <tr>\n",
       "      <th>1813</th>\n",
       "      <td>20-Dec-2019</td>\n",
       "      <td>17,118.44</td>\n",
       "    </tr>\n",
       "    <tr>\n",
       "      <th>1814</th>\n",
       "      <td>23-Dec-2019</td>\n",
       "      <td>17,128.71</td>\n",
       "    </tr>\n",
       "    <tr>\n",
       "      <th>1815</th>\n",
       "      <td>24-Dec-2019</td>\n",
       "      <td>17,180.15</td>\n",
       "    </tr>\n",
       "    <tr>\n",
       "      <th>1816</th>\n",
       "      <td>27-Dec-2019</td>\n",
       "      <td>17,168.21</td>\n",
       "    </tr>\n",
       "    <tr>\n",
       "      <th>1817</th>\n",
       "      <td>30-Dec-2019</td>\n",
       "      <td>17,098.56</td>\n",
       "    </tr>\n",
       "  </tbody>\n",
       "</table>\n",
       "<p>1818 rows × 2 columns</p>\n",
       "</div>"
      ],
      "text/plain": [
       "             Date      Close\n",
       "0      1-Oct-2012  12,370.19\n",
       "1      2-Oct-2012  12,391.23\n",
       "2      3-Oct-2012  12,359.47\n",
       "3      4-Oct-2012  12,447.68\n",
       "4      5-Oct-2012  12,418.99\n",
       "...           ...        ...\n",
       "1813  20-Dec-2019  17,118.44\n",
       "1814  23-Dec-2019  17,128.71\n",
       "1815  24-Dec-2019  17,180.15\n",
       "1816  27-Dec-2019  17,168.21\n",
       "1817  30-Dec-2019  17,098.56\n",
       "\n",
       "[1818 rows x 2 columns]"
      ]
     },
     "execution_count": 50,
     "metadata": {},
     "output_type": "execute_result"
    }
   ],
   "source": [
    "#Remove any non-numeric values (e.g., dollar signs) from the DataFrames and convert the data types \n",
    "df_sp_tsx_history.dtypes\n",
    "df_sp_tsx_history\n",
    "# df_sp_tsx_history.replace(\",\",\" \")\n",
    "# print(df_sp_tsx_history)\n",
    "# object(df_sp_tsx_history['Close']).astype('float')\n",
    "# df_sp_tsx_history.dtypes\n"
   ]
  },
  {
   "cell_type": "code",
   "execution_count": 5,
   "id": "0e49a314-30c7-48ab-9ae4-58ea93c210ba",
   "metadata": {},
   "outputs": [
    {
     "data": {
      "text/plain": [
       "Date       object\n",
       "Algo 1    float64\n",
       "Algo 2    float64\n",
       "dtype: object"
      ]
     },
     "execution_count": 5,
     "metadata": {},
     "output_type": "execute_result"
    }
   ],
   "source": [
    "df_algo_returns.dtypes"
   ]
  }
 ],
 "metadata": {
  "kernelspec": {
   "display_name": "Python 3 (ipykernel)",
   "language": "python",
   "name": "python3"
  },
  "language_info": {
   "codemirror_mode": {
    "name": "ipython",
    "version": 3
   },
   "file_extension": ".py",
   "mimetype": "text/x-python",
   "name": "python",
   "nbconvert_exporter": "python",
   "pygments_lexer": "ipython3",
   "version": "3.9.12"
  }
 },
 "nbformat": 4,
 "nbformat_minor": 5
}
